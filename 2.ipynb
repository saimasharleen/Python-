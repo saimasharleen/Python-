{
 "cells": [
  {
   "cell_type": "markdown",
   "metadata": {},
   "source": [
    "### Classes"
   ]
  },
  {
   "cell_type": "code",
   "execution_count": 6,
   "metadata": {},
   "outputs": [],
   "source": [
    "class Dog:\n",
    "    def __init__(self,name):\n",
    "        self.name = name\n",
    "    def bark(self):\n",
    "        return f'{self.name} barks!'"
   ]
  },
  {
   "cell_type": "code",
   "execution_count": 7,
   "metadata": {},
   "outputs": [],
   "source": [
    "max = Dog('Max')\n",
    "rochy = Dog('Rochy')"
   ]
  },
  {
   "cell_type": "code",
   "execution_count": 8,
   "metadata": {},
   "outputs": [
    {
     "name": "stdout",
     "output_type": "stream",
     "text": [
      "Max barks!\n"
     ]
    }
   ],
   "source": [
    "print(max.bark())"
   ]
  },
  {
   "cell_type": "code",
   "execution_count": 9,
   "metadata": {},
   "outputs": [
    {
     "name": "stdout",
     "output_type": "stream",
     "text": [
      "Max\n"
     ]
    }
   ],
   "source": [
    "print(max.name)"
   ]
  },
  {
   "cell_type": "markdown",
   "metadata": {},
   "source": [
    "### Errors and exception handling"
   ]
  },
  {
   "cell_type": "code",
   "execution_count": 11,
   "metadata": {},
   "outputs": [
    {
     "name": "stdout",
     "output_type": "stream",
     "text": [
      "Enter an integer:ty\n",
      "Invalid input, please try again.\n",
      "Enter an integer:fhth\n",
      "Invalid input, please try again.\n",
      "Enter an integer:5\n",
      "The square of 5.0 is 25.0\n"
     ]
    }
   ],
   "source": [
    "while True:\n",
    "    try:\n",
    "        given_int = float(input('Enter an integer:'))\n",
    "        print(f'The square of {given_int} is {given_int**2}')\n",
    "        break \n",
    "        \n",
    "    except ValueError as ve:\n",
    "        print('Invalid input, please try again.')\n",
    "        \n",
    "    except Exception as e:\n",
    "        print('Error! Please type again!')"
   ]
  },
  {
   "cell_type": "markdown",
   "metadata": {},
   "source": [
    "## Basic Algorithms"
   ]
  },
  {
   "cell_type": "code",
   "execution_count": 12,
   "metadata": {},
   "outputs": [],
   "source": [
    "# given a list, what is the minimum or maximum element\n",
    "\n",
    "# given an integer, find the integer obtained by reversing its digits"
   ]
  },
  {
   "cell_type": "code",
   "execution_count": 13,
   "metadata": {},
   "outputs": [
    {
     "name": "stdout",
     "output_type": "stream",
     "text": [
      "-5\n"
     ]
    }
   ],
   "source": [
    "def get_min(lst):\n",
    "    minimum = lst[0]\n",
    "    for elem in lst:\n",
    "        if elem<minimum:\n",
    "            minimum = elem\n",
    "    return minimum\n",
    "print(get_min([3,6,3,7,100,2,-5,35,2,1]))\n"
   ]
  },
  {
   "cell_type": "code",
   "execution_count": 14,
   "metadata": {},
   "outputs": [
    {
     "name": "stdout",
     "output_type": "stream",
     "text": [
      "-2\n"
     ]
    }
   ],
   "source": [
    "print(min([2,4,5,6,-2,-1]))"
   ]
  },
  {
   "cell_type": "code",
   "execution_count": 17,
   "metadata": {},
   "outputs": [
    {
     "name": "stdout",
     "output_type": "stream",
     "text": [
      "542\n",
      "1361\n"
     ]
    }
   ],
   "source": [
    "# given an integer, find the integer obtained by reversing ists digits (assume it doesn't end with a 0)\n",
    "\n",
    "def reverse(number):\n",
    "    reversed_number = 0\n",
    "    while number != 0:\n",
    "        last_digit = number % 10 # a % b = the remainder of divind a by b, ex: 1013 = 3 remainder 1 => 10\n",
    "        reversed_number = reversed_number * 10 + last_digit\n",
    "        number //= 10\n",
    "    return reversed_number\n",
    "print(reverse(245))\n",
    "print(reverse(1631))\n",
    "    "
   ]
  },
  {
   "cell_type": "markdown",
   "metadata": {},
   "source": [
    "### Generators"
   ]
  },
  {
   "cell_type": "code",
   "execution_count": 2,
   "metadata": {},
   "outputs": [
    {
     "name": "stdout",
     "output_type": "stream",
     "text": [
      "0\n",
      "2\n",
      "4\n",
      "6\n",
      "8\n",
      "10\n",
      "12\n",
      "14\n",
      "16\n",
      "18\n",
      "20\n",
      "22\n",
      "24\n",
      "26\n",
      "28\n",
      "30\n",
      "32\n",
      "34\n",
      "36\n",
      "38\n",
      "40\n",
      "42\n",
      "44\n",
      "46\n",
      "48\n",
      "50\n",
      "52\n",
      "54\n",
      "56\n",
      "58\n",
      "60\n",
      "62\n",
      "64\n",
      "66\n",
      "68\n",
      "70\n",
      "72\n",
      "74\n",
      "76\n",
      "78\n",
      "80\n",
      "82\n",
      "84\n",
      "86\n",
      "88\n",
      "90\n",
      "92\n",
      "94\n",
      "96\n",
      "98\n"
     ]
    }
   ],
   "source": [
    "def get_evens():\n",
    "    i = 0\n",
    "    while True:\n",
    "        yield i\n",
    "        i +=2\n",
    "evens = get_evens()\n",
    "for i in range(50):\n",
    "    print(next(evens))\n",
    "        "
   ]
  },
  {
   "cell_type": "markdown",
   "metadata": {},
   "source": [
    "### Slicing"
   ]
  },
  {
   "cell_type": "code",
   "execution_count": 4,
   "metadata": {},
   "outputs": [],
   "source": [
    "b = [1,4,6,3,5,74,21,30,12,4,5]\n",
    "slice1 = b[:4]\n"
   ]
  },
  {
   "cell_type": "code",
   "execution_count": 5,
   "metadata": {},
   "outputs": [
    {
     "name": "stdout",
     "output_type": "stream",
     "text": [
      "[1, 4, 6, 3]\n"
     ]
    }
   ],
   "source": [
    "print(slice1)"
   ]
  },
  {
   "cell_type": "code",
   "execution_count": 7,
   "metadata": {},
   "outputs": [
    {
     "name": "stdout",
     "output_type": "stream",
     "text": [
      "[6, 3, 5, 74, 21]\n"
     ]
    }
   ],
   "source": [
    "slice2 = b[2:7]\n",
    "print(slice2)"
   ]
  },
  {
   "cell_type": "code",
   "execution_count": 8,
   "metadata": {},
   "outputs": [
    {
     "name": "stdout",
     "output_type": "stream",
     "text": [
      "[4, 6, 3, 5, 74, 21, 30]\n"
     ]
    }
   ],
   "source": [
    "slice3 = b[1:8]\n",
    "print(slice3)"
   ]
  },
  {
   "cell_type": "code",
   "execution_count": 10,
   "metadata": {},
   "outputs": [
    {
     "name": "stdout",
     "output_type": "stream",
     "text": [
      "[4, 3, 74, 30]\n"
     ]
    }
   ],
   "source": [
    "slice4 = b[1:8:2]\n",
    "print(slice4)"
   ]
  },
  {
   "cell_type": "code",
   "execution_count": 11,
   "metadata": {},
   "outputs": [
    {
     "name": "stdout",
     "output_type": "stream",
     "text": [
      "[4, 3, 74, 30, 4]\n"
     ]
    }
   ],
   "source": [
    "slice5 = b[1::2]\n",
    "print(slice5)"
   ]
  },
  {
   "cell_type": "code",
   "execution_count": 16,
   "metadata": {},
   "outputs": [
    {
     "name": "stdout",
     "output_type": "stream",
     "text": [
      "[1, 6, 5, 21, 12, 5]\n"
     ]
    }
   ],
   "source": [
    "slice6 = b[::2]\n",
    "print(slice6)"
   ]
  },
  {
   "cell_type": "code",
   "execution_count": 15,
   "metadata": {},
   "outputs": [
    {
     "name": "stdout",
     "output_type": "stream",
     "text": [
      "[21, 74, 5, 3, 6]\n"
     ]
    }
   ],
   "source": [
    "slice7 = b[6:1:-1]\n",
    "print(slice7)"
   ]
  },
  {
   "cell_type": "code",
   "execution_count": 19,
   "metadata": {},
   "outputs": [
    {
     "name": "stdout",
     "output_type": "stream",
     "text": [
      "[5, 4, 12, 30, 21, 74, 5, 3, 6, 4, 1]\n"
     ]
    }
   ],
   "source": [
    "slice8 = b[::-1] #getting the full list in reverse order\n",
    "print(slice8)"
   ]
  },
  {
   "cell_type": "markdown",
   "metadata": {},
   "source": [
    "### Memory Management"
   ]
  },
  {
   "cell_type": "code",
   "execution_count": 1,
   "metadata": {},
   "outputs": [
    {
     "name": "stdout",
     "output_type": "stream",
     "text": [
      "[100, 2, 3]\n"
     ]
    }
   ],
   "source": [
    "#Case-1: no copy\n",
    "a = [1,2,3]\n",
    "b = a\n",
    "a[0] = 100\n",
    "print(b)"
   ]
  },
  {
   "cell_type": "code",
   "execution_count": 3,
   "metadata": {},
   "outputs": [
    {
     "name": "stdout",
     "output_type": "stream",
     "text": [
      "[1, 2, 3]\n",
      "[[1], [100], [3]]\n"
     ]
    }
   ],
   "source": [
    "#case-2: shallow copy\n",
    "#case-1:\n",
    "a = [1,2,3]\n",
    "b = a[:]\n",
    "a[0] = 100\n",
    "print(b)\n",
    "#case-2:\n",
    "a = [[1],[2],[3]]\n",
    "b = a[:]\n",
    "a[1] [0] = 100\n",
    "print(b)"
   ]
  },
  {
   "cell_type": "code",
   "execution_count": 7,
   "metadata": {},
   "outputs": [
    {
     "name": "stdout",
     "output_type": "stream",
     "text": [
      "[[1], [2], [3]]\n"
     ]
    }
   ],
   "source": [
    "#case-3: Deep Copy\n",
    "from copy import deepcopy\n",
    "\n",
    "a = [[1],[2],[3]]\n",
    "b = deepcopy(a)\n",
    "a[1] [0] = 100\n",
    "print(b)"
   ]
  },
  {
   "cell_type": "markdown",
   "metadata": {},
   "source": [
    "### Passing parameters to functions"
   ]
  },
  {
   "cell_type": "code",
   "execution_count": 8,
   "metadata": {},
   "outputs": [
    {
     "name": "stdout",
     "output_type": "stream",
     "text": [
      "[1, 2, 3]\n"
     ]
    }
   ],
   "source": [
    "def f(x):\n",
    "    x = 6\n",
    "a = [1,2,3]\n",
    "f(a)\n",
    "print(a)"
   ]
  },
  {
   "cell_type": "code",
   "execution_count": 10,
   "metadata": {},
   "outputs": [
    {
     "name": "stdout",
     "output_type": "stream",
     "text": [
      "[100, 2, 3]\n"
     ]
    }
   ],
   "source": [
    "def f(x):\n",
    "    x[0] = 100\n",
    "a = [1,2,3]\n",
    "f(a)\n",
    "print(a)"
   ]
  },
  {
   "cell_type": "code",
   "execution_count": 11,
   "metadata": {},
   "outputs": [
    {
     "name": "stdout",
     "output_type": "stream",
     "text": [
      "[1, 2, 3]\n"
     ]
    }
   ],
   "source": [
    "def f(x):\n",
    "    x = [100,10,20]\n",
    "a = [1,2,3]\n",
    "f(a)\n",
    "print(a)"
   ]
  },
  {
   "cell_type": "markdown",
   "metadata": {},
   "source": [
    "### Advanced classes - inheritance and polymorphism"
   ]
  },
  {
   "cell_type": "code",
   "execution_count": 12,
   "metadata": {},
   "outputs": [
    {
     "name": "stdout",
     "output_type": "stream",
     "text": [
      "some animal generic sound.\n"
     ]
    }
   ],
   "source": [
    "class Animal:\n",
    "    def __init__(self, name):\n",
    "        self.name = name\n",
    "    def make_sound(self):\n",
    "        return f'{self.name} generic sound.'\n",
    "animal = Animal('some animal')\n",
    "print(animal.make_sound())\n",
    "    "
   ]
  },
  {
   "cell_type": "code",
   "execution_count": 15,
   "metadata": {},
   "outputs": [
    {
     "name": "stdout",
     "output_type": "stream",
     "text": [
      "maxx barks!\n"
     ]
    }
   ],
   "source": [
    "class Dog(Animal): #\"is a\"relationship\n",
    "    def __init__(self,name):\n",
    "        super().__init__(name)\n",
    "    def make_sound(self):\n",
    "        return  f'{self.name} barks!' \n",
    "animal = Dog('maxx')\n",
    "print(animal.make_sound())"
   ]
  },
  {
   "cell_type": "code",
   "execution_count": null,
   "metadata": {},
   "outputs": [],
   "source": []
  }
 ],
 "metadata": {
  "kernelspec": {
   "display_name": "Python 3",
   "language": "python",
   "name": "python3"
  },
  "language_info": {
   "codemirror_mode": {
    "name": "ipython",
    "version": 3
   },
   "file_extension": ".py",
   "mimetype": "text/x-python",
   "name": "python",
   "nbconvert_exporter": "python",
   "pygments_lexer": "ipython3",
   "version": "3.8.5"
  }
 },
 "nbformat": 4,
 "nbformat_minor": 4
}
