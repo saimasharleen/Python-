{
  "nbformat": 4,
  "nbformat_minor": 0,
  "metadata": {
    "colab": {
      "name": "01b_LAB_Reading_Data.ipynb",
      "provenance": [],
      "authorship_tag": "ABX9TyPvP071bp5JJyxGoGCUIMG9",
      "include_colab_link": true
    },
    "kernelspec": {
      "name": "python3",
      "display_name": "Python 3"
    },
    "language_info": {
      "name": "python"
    }
  },
  "cells": [
    {
      "cell_type": "markdown",
      "metadata": {
        "id": "view-in-github",
        "colab_type": "text"
      },
      "source": [
        "<a href=\"https://colab.research.google.com/github/saimasharleen/Python-/blob/master/01b_LAB_Reading_Data.ipynb\" target=\"_parent\"><img src=\"https://colab.research.google.com/assets/colab-badge.svg\" alt=\"Open In Colab\"/></a>"
      ]
    },
    {
      "cell_type": "code",
      "metadata": {
        "id": "Up4znzTmH4vR"
      },
      "source": [
        "# Imports\n",
        "import sqlite3 as sq3\n",
        "import pandas.io.sql as pds\n",
        "import pandas as pd"
      ],
      "execution_count": 1,
      "outputs": []
    },
    {
      "cell_type": "code",
      "metadata": {
        "colab": {
          "base_uri": "https://localhost:8080/"
        },
        "id": "rFW5IX5rjbiT",
        "outputId": "dd1b0104-0ec8-4cd1-d882-2be1822d47d7"
      },
      "source": [
        "from google.colab import drive\n",
        "drive.mount('/content/drive')"
      ],
      "execution_count": 2,
      "outputs": [
        {
          "output_type": "stream",
          "text": [
            "Drive already mounted at /content/drive; to attempt to forcibly remount, call drive.mount(\"/content/drive\", force_remount=True).\n"
          ],
          "name": "stdout"
        }
      ]
    },
    {
      "cell_type": "code",
      "metadata": {
        "id": "OGIw9Aj6vBGB"
      },
      "source": [
        "# Create a variable, `path`, containing the path to the `baseball.db` contained in `sample_data/`\n",
        "path = '/content/sample_data/baseball.db'"
      ],
      "execution_count": 4,
      "outputs": []
    },
    {
      "cell_type": "code",
      "metadata": {
        "id": "06g4orrwvFar"
      },
      "source": [
        "# Create a connection, `con`, that is connected to database at `path`\n",
        "con = sq3.Connection(path)"
      ],
      "execution_count": 5,
      "outputs": []
    },
    {
      "cell_type": "code",
      "metadata": {
        "colab": {
          "base_uri": "https://localhost:8080/"
        },
        "id": "Ju96NVAfvIWJ",
        "outputId": "002c0892-46f2-4b88-883c-3df0bf33dd50"
      },
      "source": [
        "# Create a variable, `query`, containing a SQL query which reads in all data from the `` table\n",
        "\n",
        "query = \"\"\"\n",
        "SELECT *\n",
        "FROM allstarfull;\n",
        "\"\"\"\n",
        "observations = pd.read_sql(query, con)\n",
        "observations = pd.read_sql(query,con)\n",
        "print(observations)"
      ],
      "execution_count": 7,
      "outputs": [
        {
          "output_type": "stream",
          "text": [
            "      index   playerID  yearID  gameNum  ... teamID lgID   GP  startingPos\n",
            "0         0  gomezle01    1933        0  ...    NYA   AL  1.0          1.0\n",
            "1         1  ferreri01    1933        0  ...    BOS   AL  1.0          2.0\n",
            "2         2  gehrilo01    1933        0  ...    NYA   AL  1.0          3.0\n",
            "3         3  gehrich01    1933        0  ...    DET   AL  1.0          4.0\n",
            "4         4  dykesji01    1933        0  ...    CHA   AL  1.0          5.0\n",
            "...     ...        ...     ...      ...  ...    ...  ...  ...          ...\n",
            "5143   5143  seageco01    2016        0  ...    LAN   NL  1.0          NaN\n",
            "5144   5144  strasst01    2016        0  ...    WAS   NL  0.0          NaN\n",
            "5145   5145  syndeno01    2016        0  ...    NYN   NL  0.0          NaN\n",
            "5146   5146  teherju01    2016        0  ...    ATL   NL  1.0          NaN\n",
            "5147   5147  zobribe01    2016        0  ...    CHN   NL  1.0          4.0\n",
            "\n",
            "[5148 rows x 9 columns]\n"
          ],
          "name": "stdout"
        }
      ]
    },
    {
      "cell_type": "code",
      "metadata": {
        "colab": {
          "base_uri": "https://localhost:8080/"
        },
        "id": "bnF0XWVOvfok",
        "outputId": "1bca5200-25c7-4778-a4e0-bdf9647cf21b"
      },
      "source": [
        "# Create a variable, tables, which reads in all data from the table sqlite_master\n",
        "tables = pd.read_sql('SELECT * FROM sqlite_master', con)\n",
        "print(tables)"
      ],
      "execution_count": 9,
      "outputs": [
        {
          "output_type": "stream",
          "text": [
            "    type  ...                                                sql\n",
            "0  table  ...  CREATE TABLE \"allstarfull\" (\\n\"index\" INTEGER,...\n",
            "1  index  ...  CREATE INDEX \"ix_allstarfull_index\"ON \"allstar...\n",
            "2  table  ...  CREATE TABLE \"schools\" (\\n\"index\" INTEGER,\\n  ...\n",
            "3  index  ...  CREATE INDEX \"ix_schools_index\"ON \"schools\" (\"...\n",
            "4  table  ...  CREATE TABLE \"batting\" (\\n\"index\" INTEGER,\\n  ...\n",
            "5  index  ...  CREATE INDEX \"ix_batting_index\"ON \"batting\" (\"...\n",
            "\n",
            "[6 rows x 5 columns]\n"
          ],
          "name": "stdout"
        }
      ]
    },
    {
      "cell_type": "code",
      "metadata": {
        "colab": {
          "base_uri": "https://localhost:8080/"
        },
        "id": "9m3YC0n2v41I",
        "outputId": "f0f9d513-e8e4-48d1-dc0a-9b929fc0bdbb"
      },
      "source": [
        "# creating a new baseball hall of fame. Join and analyze the tables to evaluate the top 3 all time best baseball players\n",
        "query2 = \"\"\"\n",
        "SELECT playerID, sum(GP) AS num_games_played, AVG(startingPos) AS avg_starting_position\n",
        "    FROM allstarfull\n",
        "    GROUP BY playerID\n",
        "    ORDER BY num_games_played DESC, avg_starting_position ASC\n",
        "    LIMIT 3\n",
        "\"\"\"\n",
        "best = pd.read_sql(query2, con)\n",
        "print(best.head())"
      ],
      "execution_count": 11,
      "outputs": [
        {
          "output_type": "stream",
          "text": [
            "    playerID  num_games_played  avg_starting_position\n",
            "0  musiast01              24.0               6.357143\n",
            "1   mayswi01              24.0               8.000000\n",
            "2  aaronha01              24.0               8.470588\n"
          ],
          "name": "stdout"
        }
      ]
    }
  ]
}